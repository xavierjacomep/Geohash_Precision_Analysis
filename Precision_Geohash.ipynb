{
  "nbformat": 4,
  "nbformat_minor": 0,
  "metadata": {
    "colab": {
      "provenance": [],
      "authorship_tag": "ABX9TyOvvYw7W1SRu7GC8nT+oY/H",
      "include_colab_link": true
    },
    "kernelspec": {
      "name": "python3",
      "display_name": "Python 3"
    },
    "language_info": {
      "name": "python"
    }
  },
  "cells": [
    {
      "cell_type": "markdown",
      "metadata": {
        "id": "view-in-github",
        "colab_type": "text"
      },
      "source": [
        "<a href=\"https://colab.research.google.com/github/xavierjacomep/Geohash_Precision_Analysis_/blob/main/Precision_Geohash.ipynb\" target=\"_parent\"><img src=\"https://colab.research.google.com/assets/colab-badge.svg\" alt=\"Open In Colab\"/></a>"
      ]
    },
    {
      "cell_type": "markdown",
      "source": [
        "# Comprendiendo la precisión de los códigos Geohash para la optimización de análisis espaciales"
      ],
      "metadata": {
        "id": "zJbd_4HsXsNo"
      }
    },
    {
      "cell_type": "markdown",
      "source": [
        "Desarrollado por: [Xavier Jácome Piñeiros](https://www.linkedin.com/in/xavierjacomep/)"
      ],
      "metadata": {
        "id": "jxPPQhShYicH"
      }
    },
    {
      "cell_type": "markdown",
      "source": [
        "Este notebook contiene el análisis y el código que demuestra cómo la precisión de los códigos Geohash afecta la optimización de los análisis geoespaciales. Exploramos cómo las dimensiones físicas de un Geohash varían con su precisión y cómo podemos ajustarla de acuerdo con nuestras necesidades."
      ],
      "metadata": {
        "id": "6bpn7UgcXurm"
      }
    },
    {
      "cell_type": "markdown",
      "source": [
        "## Dependencias\n",
        "\n",
        "Las dependencias para este notebook incluyen geohash y geopy.distance. En primer lugar, instalamos la librería geohash."
      ],
      "metadata": {
        "id": "Gf4CVguYXxm-"
      }
    },
    {
      "cell_type": "code",
      "source": [
        "pip install python-geohash"
      ],
      "metadata": {
        "colab": {
          "base_uri": "https://localhost:8080/"
        },
        "id": "pf4zzeb8YE7A",
        "outputId": "e2f1ceff-d777-4ffd-821c-a82c470dc9cd"
      },
      "execution_count": 1,
      "outputs": [
        {
          "output_type": "stream",
          "name": "stdout",
          "text": [
            "Looking in indexes: https://pypi.org/simple, https://us-python.pkg.dev/colab-wheels/public/simple/\n",
            "Requirement already satisfied: python-geohash in /usr/local/lib/python3.10/dist-packages (0.8.5)\n"
          ]
        }
      ]
    },
    {
      "cell_type": "code",
      "execution_count": 2,
      "metadata": {
        "id": "cBg02rzGXjpX"
      },
      "outputs": [],
      "source": [
        "import geohash\n",
        "import geopy.distance"
      ]
    },
    {
      "cell_type": "markdown",
      "source": [
        "## Función para calcular las dimensiones de Geohash\n",
        "\n",
        "La siguiente función, `geohash_dimensions`, toma una precisión (la longitud de la cadena de código Geohash) como entrada y devuelve el ancho y la altura del cuadro Geohash correspondiente en metros."
      ],
      "metadata": {
        "id": "-ctIOwvZYH8W"
      }
    },
    {
      "cell_type": "code",
      "source": [
        "def geohash_dimensions(precision):\n",
        "    # Codifique una muestra de latitud y longitud usando la precisión dada\n",
        "    sample_geohash = geohash.encode(0, 0, precision)\n",
        "\n",
        "    # Obtener el cuadro delimitador de geohash\n",
        "    _, _, lat_err, lon_err = geohash.decode_exactly(sample_geohash)\n",
        "\n",
        "    # Calcule las dimensiones directamente a partir de los errores de latitud y longitud\n",
        "    width = lon_err * 2 * 111320  # 1 grado de longitud ~= 111,32 km en el ecuador\n",
        "    height = lat_err * 2 * 110574  # 1 grado de latitud ~= 110.574 km en todas partes\n",
        "\n",
        "    return width, height"
      ],
      "metadata": {
        "id": "mjlbnggEXtss"
      },
      "execution_count": 3,
      "outputs": []
    },
    {
      "cell_type": "markdown",
      "source": [
        "Los pasos que realiza la función `geohash_dimensions` son los siguientes:\n",
        "\n",
        "1. Dentro de la función, primero genera un geohash de muestra utilizando la longitud y latitud 0,0 (que corresponde más o menos al Golfo de Guinea en el Océano Atlántico), con la precisión especificada.\n",
        "\n",
        "2. Luego, utiliza la función `decode_exactly` de la biblioteca geohash para obtener los errores de latitud y longitud de la caja del geohash. Estos errores representan la mitad de las dimensiones de la caja.\n",
        "\n",
        "3. A continuación, calcula el ancho y la altura de la caja del geohash, multiplicando el error de longitud por 2 y por una constante que representa el número de metros en un grado de longitud en el ecuador (111.32 km), y el error de latitud por 2 y por una constante que representa el número de metros en un grado de latitud en cualquier lugar (110.574 km).\n",
        "\n",
        "4. Finalmente, retorna el ancho y la altura de la caja del geohash."
      ],
      "metadata": {
        "id": "V4qYh5Fw_Z9S"
      }
    },
    {
      "cell_type": "markdown",
      "source": [
        "## Calculando y mostrando las dimensiones de Geohash para diferentes niveles de precisión\n",
        "\n",
        "Ahora, vamos a utilizar la función `geohash_dimensions` para calcular y mostrar las dimensiones de un Geohash para diferentes niveles de precisión."
      ],
      "metadata": {
        "id": "UeWPjMf7YTTh"
      }
    },
    {
      "cell_type": "code",
      "source": [
        "for precision in range(1, 13):\n",
        "    width, height = geohash_dimensions(precision)\n",
        "    print(f\"Precision {precision}: {width:.2f}m x {height:.2f}m\")"
      ],
      "metadata": {
        "colab": {
          "base_uri": "https://localhost:8080/"
        },
        "id": "tX_BK7stYPch",
        "outputId": "ca9a75f0-4705-4e91-fca2-f4c0ebc52a94"
      },
      "execution_count": 4,
      "outputs": [
        {
          "output_type": "stream",
          "name": "stdout",
          "text": [
            "Precision 1: 5009400.00m x 4975830.00m\n",
            "Precision 2: 1252350.00m x 621978.75m\n",
            "Precision 3: 156543.75m x 155494.69m\n",
            "Precision 4: 39135.94m x 19436.84m\n",
            "Precision 5: 4891.99m x 4859.21m\n",
            "Precision 6: 1223.00m x 607.40m\n",
            "Precision 7: 152.87m x 151.85m\n",
            "Precision 8: 38.22m x 18.98m\n",
            "Precision 9: 4.78m x 4.75m\n",
            "Precision 10: 1.19m x 0.59m\n",
            "Precision 11: 0.15m x 0.15m\n",
            "Precision 12: 0.04m x 0.02m\n"
          ]
        }
      ]
    },
    {
      "cell_type": "markdown",
      "source": [
        "## Conclusiones\n",
        "\n",
        "En este notebook, hemos explorado cómo las dimensiones físicas de un Geohash varían con su precisión. Hemos aprendido que a medida que aumenta la precisión, las dimensiones de la celda disminuyen, lo que significa que un Geohash más preciso representará un área más pequeña en la Tierra. Esto es valioso para ajustar la precisión de nuestro análisis geoespacial de acuerdo con nuestras necesidades y la cantidad de datos que estamos dispuestos a manejar.\n"
      ],
      "metadata": {
        "id": "4D2wYCWLYbNQ"
      }
    }
  ]
}